{
 "cells": [
  {
   "cell_type": "markdown",
   "id": "923a6950",
   "metadata": {},
   "source": [
    "Q1. Write a program to distinguish between Array Indexing and Fancy Indexing."
   ]
  },
  {
   "cell_type": "code",
   "execution_count": 2,
   "id": "65215a6e",
   "metadata": {},
   "outputs": [
    {
     "name": "stdout",
     "output_type": "stream",
     "text": [
      "Array Indexing:  4\n",
      "Fancy Indexing:  [3 5 7 9]\n"
     ]
    }
   ],
   "source": [
    "import numpy as np\n",
    "arr1=np.array([1,2,3,4,5,6,7,8,9])\n",
    "#Array(Simple) Indexing\n",
    "ai=arr1[3]\n",
    "print(\"Array Indexing: \",ai)\n",
    "#Fancy Indexing\n",
    "fi=arr1[[2,4,6,8]]\n",
    "print(\"Fancy Indexing: \",fi)"
   ]
  },
  {
   "cell_type": "markdown",
   "id": "6def5a49",
   "metadata": {},
   "source": [
    "Q2. Execute the 2D array Slicing."
   ]
  },
  {
   "cell_type": "code",
   "execution_count": 3,
   "id": "59f6c966",
   "metadata": {},
   "outputs": [
    {
     "name": "stdout",
     "output_type": "stream",
     "text": [
      "[ 8  9 10 11]\n"
     ]
    }
   ],
   "source": [
    "import numpy as np\n",
    "arr=np.array([[1,2,3,4,5,6],[7,8,9,10,11,12]])\n",
    "print(arr[1][1:5])"
   ]
  },
  {
   "cell_type": "markdown",
   "id": "8619faf5",
   "metadata": {},
   "source": [
    "Q3. Create the 5-Dimensional arrays using ‘ndmin’."
   ]
  },
  {
   "cell_type": "code",
   "execution_count": 4,
   "id": "a521eb45",
   "metadata": {},
   "outputs": [
    {
     "name": "stdout",
     "output_type": "stream",
     "text": [
      "The 5 dimensional array using ndmin is :  [[[[[9 8 7 6]]]]]\n"
     ]
    }
   ],
   "source": [
    "import numpy as np\n",
    "arr1=np.array([9,8,7,6],ndmin=5)\n",
    "print(\"The 5 dimensional array using ndmin is : \",arr1)"
   ]
  },
  {
   "cell_type": "markdown",
   "id": "dc2f409d",
   "metadata": {},
   "source": [
    "Q4. Reshape the array from 1-D to 2-D array."
   ]
  },
  {
   "cell_type": "code",
   "execution_count": 5,
   "id": "361e4952",
   "metadata": {},
   "outputs": [
    {
     "name": "stdout",
     "output_type": "stream",
     "text": [
      "The original array : [0 9 8 7 6 5 4 3 2 1]\n",
      "Array after reshapeing : \n",
      " [[0 9 8 7 6]\n",
      " [5 4 3 2 1]]\n"
     ]
    }
   ],
   "source": [
    "import numpy as np\n",
    "arr=np.array([0,9,8,7,6,5,4,3,2,1])\n",
    "print(\"The original array :\",arr)\n",
    "reshapearr=arr.reshape(2,5)\n",
    "print(\"Array after reshapeing : \\n\",reshapearr)"
   ]
  },
  {
   "cell_type": "markdown",
   "id": "e3dc046d",
   "metadata": {},
   "source": [
    "Q5. Perform the Stack functions in Numpy arrays – Stack(), hstack(), vstack(), and dstack()."
   ]
  },
  {
   "cell_type": "code",
   "execution_count": 6,
   "id": "ed582b58",
   "metadata": {},
   "outputs": [
    {
     "name": "stdout",
     "output_type": "stream",
     "text": [
      "First array :  [ 0 11 22 33 44 55 66 77 88 99]\n",
      "Second array :  [ 10  20  30  40  50  60  70  80  90 100]\n",
      "\n",
      "Arrays after using stack : \n",
      " [[  0  11  22  33  44  55  66  77  88  99]\n",
      " [ 10  20  30  40  50  60  70  80  90 100]]\n",
      "\n",
      "Arrays after using hstack : \n",
      " [  0  11  22  33  44  55  66  77  88  99  10  20  30  40  50  60  70  80\n",
      "  90 100]\n",
      "\n",
      "Arrays after using vstack : \n",
      " [[  0  11  22  33  44  55  66  77  88  99]\n",
      " [ 10  20  30  40  50  60  70  80  90 100]]\n",
      "\n",
      "Arrays after using dstack :\n",
      " [[[  0  10]\n",
      "  [ 11  20]\n",
      "  [ 22  30]\n",
      "  [ 33  40]\n",
      "  [ 44  50]\n",
      "  [ 55  60]\n",
      "  [ 66  70]\n",
      "  [ 77  80]\n",
      "  [ 88  90]\n",
      "  [ 99 100]]]\n"
     ]
    }
   ],
   "source": [
    "import numpy as np\n",
    "arr1=np.array([00,11,22,33,44,55,66,77,88,99])\n",
    "print(\"First array : \",arr1)\n",
    "arr2=np.array([10,20,30,40,50,60,70,80,90,100])\n",
    "print(\"Second array : \",arr2)\n",
    "\n",
    "#Using stack\n",
    "sarr=np.stack((arr1,arr2))\n",
    "print(\"\\nArrays after using stack : \\n\",sarr)\n",
    "\n",
    "#Using hstack\n",
    "harr=np.hstack((arr1,arr2))\n",
    "print(\"\\nArrays after using hstack : \\n\",harr)\n",
    "\n",
    "#Using vstack \n",
    "varray=np.vstack((arr1,arr2))\n",
    "print(\"\\nArrays after using vstack : \\n\",varray)\n",
    "\n",
    "#Using dstack\n",
    "darray=np.dstack((arr1,arr2))\n",
    "print(\"\\nArrays after using dstack :\\n\",darray)"
   ]
  },
  {
   "cell_type": "markdown",
   "id": "5c433659",
   "metadata": {},
   "source": [
    "Q6. Perform the searchsort method in Numpy array."
   ]
  },
  {
   "cell_type": "code",
   "execution_count": 7,
   "id": "26d4bef1",
   "metadata": {},
   "outputs": [
    {
     "name": "stdout",
     "output_type": "stream",
     "text": [
      "Search Sort :  [3 4 6 0]\n",
      "(using side) :  1\n"
     ]
    }
   ],
   "source": [
    "import numpy as np\n",
    "arr=np.array([12,23,34,45,56,67,78])\n",
    "\n",
    "sarr=np.searchsorted(arr,[45,56,78,12])\n",
    "print(\"Search Sort : \",sarr)\n",
    "\n",
    "sarray=np.searchsorted(arr,23,side='left')\n",
    "print(\"(using side) : \",sarray)"
   ]
  },
  {
   "cell_type": "markdown",
   "id": "f6d31c2f",
   "metadata": {},
   "source": [
    "Q7. Create Numpy Structured array using your domain features."
   ]
  },
  {
   "cell_type": "code",
   "execution_count": 10,
   "id": "59b5a3b6",
   "metadata": {},
   "outputs": [
    {
     "name": "stdout",
     "output_type": "stream",
     "text": [
      "Course Names: ['Introduction to Python' 'Web Development Fundamentals'\n",
      " 'Machine Learning Basics']\n",
      "Instructors: ['John Doe' 'Jane Smith' 'Alice Johnson']\n"
     ]
    }
   ],
   "source": [
    "import numpy as np\n",
    "\n",
    "# Define structured array with field names and data types\n",
    "courses = np.array([\n",
    "    (1, 'Introduction to Python', 'John Doe', '2023-09-01', '2023-09-30', 50, 49.99),\n",
    "    (2, 'Web Development Fundamentals', 'Jane Smith', '2023-10-01', '2023-10-31', 75, 79.99),\n",
    "    (3, 'Machine Learning Basics', 'Alice Johnson', '2023-11-01', '2023-11-30', 30, 99.99)\n",
    "], dtype=[\n",
    "    ('course_id', 'int'),\n",
    "    ('course_name', 'U50'),\n",
    "    ('instructor', 'U50'),\n",
    "    ('start_date', 'datetime64[D]'),  # Use datetime64[D] for date-only format\n",
    "    ('end_date', 'datetime64[D]'),    # Use datetime64[D] for date-only format\n",
    "    ('enrollment_count', 'int'),\n",
    "    ('price', 'float')\n",
    "])\n",
    "\n",
    "# Accessing structured array elements\n",
    "print(\"Course Names:\", courses['course_name'])\n",
    "print(\"Instructors:\", courses['instructor'])\n",
    "\n"
   ]
  },
  {
   "cell_type": "markdown",
   "id": "b8da0a51",
   "metadata": {},
   "source": [
    "Q8. Create Data frame using List and Dictionary."
   ]
  },
  {
   "cell_type": "code",
   "execution_count": 12,
   "id": "7e36063a",
   "metadata": {},
   "outputs": [
    {
     "name": "stdout",
     "output_type": "stream",
     "text": [
      "            Books  Year\n",
      "0        Aarachar  2012\n",
      "1  Harry Potter 1  1997\n",
      "2   Percy Jackson  2010\n",
      "3        Chemmeen  1956\n",
      "\n",
      "\n",
      "    Years\n",
      "a   2012\n",
      "b   1997\n",
      "c   2010\n",
      "d   1956\n"
     ]
    }
   ],
   "source": [
    "import pandas as pd\n",
    "#Dataframe using Dictionary\n",
    "df={\n",
    "    'Books':['Aarachar','Harry Potter 1','Percy Jackson','Chemmeen'],\n",
    "    'Year':[2012,1997,2010,1956]\n",
    "}\n",
    "mybooks=pd.DataFrame(df)\n",
    "print(mybooks)\n",
    "\n",
    "#DataFrame using list\n",
    "mylist=[2012,1997,2010,1956]\n",
    "mydata=pd.DataFrame(mylist,index=['a','b','c','d'],\n",
    "                    columns=['Years'])\n",
    "print(\"\\n\\n\",mydata)"
   ]
  },
  {
   "cell_type": "markdown",
   "id": "e70f949e",
   "metadata": {},
   "source": [
    "Q9. Create Data frame on your Domain area and perform the following operations to find and eliminate the\n",
    "missing data from the dataset.\n",
    "• isnull()\n",
    "• notnull()\n",
    "• dropna()\n",
    "• fillna()\n",
    "• replace()\n",
    "• interpolate()"
   ]
  },
  {
   "cell_type": "code",
   "execution_count": 13,
   "id": "6e1c6fad",
   "metadata": {},
   "outputs": [
    {
     "name": "stdout",
     "output_type": "stream",
     "text": [
      "Initial DataFrame:\n",
      "   course_id       course_name     instructor  start_date    end_date  \\\n",
      "0          1     Python Basics       John Doe  2023-09-01  2023-09-30   \n",
      "1          2   Web Development     Jane Smith        None  2023-11-30   \n",
      "2          3  Machine Learning  Alice Johnson  2023-10-01  2023-11-30   \n",
      "3          4      Data Science      Bob Brown  2023-10-15        None   \n",
      "4          5  SQL Fundamentals      Eva White  2023-11-01  2023-12-15   \n",
      "\n",
      "   enrollment_count  price  \n",
      "0              50.0  49.99  \n",
      "1              75.0  79.99  \n",
      "2               NaN  99.99  \n",
      "3              60.0    NaN  \n",
      "4              40.0  59.99  \n",
      "\n",
      "Check for missing data (isnull()):\n",
      "   course_id  course_name  instructor  start_date  end_date  enrollment_count  \\\n",
      "0      False        False       False       False     False             False   \n",
      "1      False        False       False        True     False             False   \n",
      "2      False        False       False       False     False              True   \n",
      "3      False        False       False       False      True             False   \n",
      "4      False        False       False       False     False             False   \n",
      "\n",
      "   price  \n",
      "0  False  \n",
      "1  False  \n",
      "2  False  \n",
      "3   True  \n",
      "4  False  \n",
      "\n",
      "Check for non-missing data (notnull()):\n",
      "   course_id  course_name  instructor  start_date  end_date  enrollment_count  \\\n",
      "0       True         True        True        True      True              True   \n",
      "1       True         True        True       False      True              True   \n",
      "2       True         True        True        True      True             False   \n",
      "3       True         True        True        True     False              True   \n",
      "4       True         True        True        True      True              True   \n",
      "\n",
      "   price  \n",
      "0   True  \n",
      "1   True  \n",
      "2   True  \n",
      "3  False  \n",
      "4   True  \n",
      "\n",
      "DataFrame after dropping rows with missing data:\n",
      "   course_id       course_name instructor  start_date    end_date  \\\n",
      "0          1     Python Basics   John Doe  2023-09-01  2023-09-30   \n",
      "4          5  SQL Fundamentals  Eva White  2023-11-01  2023-12-15   \n",
      "\n",
      "   enrollment_count  price  \n",
      "0              50.0  49.99  \n",
      "4              40.0  59.99  \n",
      "\n",
      "DataFrame after filling missing values:\n",
      "   course_id       course_name     instructor  start_date    end_date  \\\n",
      "0          1     Python Basics       John Doe  2023-09-01  2023-09-30   \n",
      "1          2   Web Development     Jane Smith  2023-01-01  2023-11-30   \n",
      "2          3  Machine Learning  Alice Johnson  2023-10-01  2023-11-30   \n",
      "3          4      Data Science      Bob Brown  2023-10-15  2023-12-31   \n",
      "4          5  SQL Fundamentals      Eva White  2023-11-01  2023-12-15   \n",
      "\n",
      "   enrollment_count  price  \n",
      "0              50.0  49.99  \n",
      "1              75.0  79.99  \n",
      "2               0.0  99.99  \n",
      "3              60.0   0.00  \n",
      "4              40.0  59.99  \n",
      "\n",
      "DataFrame after replacing missing values:\n",
      "   course_id       course_name     instructor  start_date    end_date  \\\n",
      "0          1     Python Basics       John Doe  2023-09-01  2023-09-30   \n",
      "1          2   Web Development     Jane Smith         N/A  2023-11-30   \n",
      "2          3  Machine Learning  Alice Johnson  2023-10-01  2023-11-30   \n",
      "3          4      Data Science      Bob Brown  2023-10-15         N/A   \n",
      "4          5  SQL Fundamentals      Eva White  2023-11-01  2023-12-15   \n",
      "\n",
      "  enrollment_count  price  \n",
      "0             50.0  49.99  \n",
      "1             75.0  79.99  \n",
      "2              N/A  99.99  \n",
      "3             60.0    N/A  \n",
      "4             40.0  59.99  \n",
      "\n",
      "DataFrame after interpolating missing values:\n",
      "   course_id       course_name     instructor  start_date    end_date  \\\n",
      "0          1     Python Basics       John Doe  2023-09-01  2023-09-30   \n",
      "1          2   Web Development     Jane Smith        None  2023-11-30   \n",
      "2          3  Machine Learning  Alice Johnson  2023-10-01  2023-11-30   \n",
      "3          4      Data Science      Bob Brown  2023-10-15        None   \n",
      "4          5  SQL Fundamentals      Eva White  2023-11-01  2023-12-15   \n",
      "\n",
      "   enrollment_count  price  \n",
      "0              50.0  49.99  \n",
      "1              75.0  79.99  \n",
      "2              67.5  99.99  \n",
      "3              60.0  79.99  \n",
      "4              40.0  59.99  \n"
     ]
    }
   ],
   "source": [
    "import pandas as pd\n",
    "import numpy as np\n",
    "\n",
    "# Create a sample DataFrame\n",
    "data = {\n",
    "    'course_id': [1, 2, 3, 4, 5],\n",
    "    'course_name': ['Python Basics', 'Web Development', 'Machine Learning', 'Data Science', 'SQL Fundamentals'],\n",
    "    'instructor': ['John Doe', 'Jane Smith', 'Alice Johnson', 'Bob Brown', 'Eva White'],\n",
    "    'start_date': ['2023-09-01', None, '2023-10-01', '2023-10-15', '2023-11-01'],\n",
    "    'end_date': ['2023-09-30', '2023-11-30', '2023-11-30', None, '2023-12-15'],\n",
    "    'enrollment_count': [50, 75, None, 60, 40],\n",
    "    'price': [49.99, 79.99, 99.99, None, 59.99]\n",
    "}\n",
    "\n",
    "df = pd.DataFrame(data)\n",
    "\n",
    "# Display the initial DataFrame\n",
    "print(\"Initial DataFrame:\")\n",
    "print(df)\n",
    "\n",
    "# Check for missing data\n",
    "print(\"\\nCheck for missing data (isnull()):\")\n",
    "print(df.isnull())\n",
    "\n",
    "# Check for non-missing data\n",
    "print(\"\\nCheck for non-missing data (notnull()):\")\n",
    "print(df.notnull())\n",
    "\n",
    "# Drop rows with missing data\n",
    "df_dropped = df.dropna()\n",
    "print(\"\\nDataFrame after dropping rows with missing data:\")\n",
    "print(df_dropped)\n",
    "\n",
    "# Fill missing values with a specific value\n",
    "df_filled = df.fillna({'start_date': '2023-01-01', 'end_date': '2023-12-31', 'enrollment_count': 0, 'price': 0.0})\n",
    "print(\"\\nDataFrame after filling missing values:\")\n",
    "print(df_filled)\n",
    "\n",
    "# Replace missing values with a specific value\n",
    "df_replaced = df.replace(np.nan, 'N/A')\n",
    "print(\"\\nDataFrame after replacing missing values:\")\n",
    "print(df_replaced)\n",
    "\n",
    "# Interpolate missing values\n",
    "df_interpolated = df.interpolate()\n",
    "print(\"\\nDataFrame after interpolating missing values:\")\n",
    "print(df_interpolated)\n"
   ]
  },
  {
   "cell_type": "markdown",
   "id": "eade5b32",
   "metadata": {},
   "source": [
    "Q10. Perform the Hierarchical Indexing in the above created dataset."
   ]
  },
  {
   "cell_type": "code",
   "execution_count": 14,
   "id": "03db3b73",
   "metadata": {},
   "outputs": [
    {
     "name": "stdout",
     "output_type": "stream",
     "text": [
      "DataFrame with Hierarchical Indexing:\n",
      "                               instructor  start_date    end_date  \\\n",
      "course_id course_name                                               \n",
      "1         Python Basics          John Doe  2023-09-01  2023-09-30   \n",
      "2         Web Development      Jane Smith        None  2023-11-30   \n",
      "3         Machine Learning  Alice Johnson  2023-10-01  2023-11-30   \n",
      "4         Data Science          Bob Brown  2023-10-15        None   \n",
      "5         SQL Fundamentals      Eva White  2023-11-01  2023-12-15   \n",
      "\n",
      "                            enrollment_count  price  \n",
      "course_id course_name                                \n",
      "1         Python Basics                 50.0  49.99  \n",
      "2         Web Development               75.0  79.99  \n",
      "3         Machine Learning               NaN  99.99  \n",
      "4         Data Science                  60.0    NaN  \n",
      "5         SQL Fundamentals              40.0  59.99  \n"
     ]
    }
   ],
   "source": [
    "import pandas as pd\n",
    "\n",
    "# Create a sample DataFrame\n",
    "data = {\n",
    "    'course_id': [1, 2, 3, 4, 5],\n",
    "    'course_name': ['Python Basics', 'Web Development', 'Machine Learning', 'Data Science', 'SQL Fundamentals'],\n",
    "    'instructor': ['John Doe', 'Jane Smith', 'Alice Johnson', 'Bob Brown', 'Eva White'],\n",
    "    'start_date': ['2023-09-01', None, '2023-10-01', '2023-10-15', '2023-11-01'],\n",
    "    'end_date': ['2023-09-30', '2023-11-30', '2023-11-30', None, '2023-12-15'],\n",
    "    'enrollment_count': [50, 75, None, 60, 40],\n",
    "    'price': [49.99, 79.99, 99.99, None, 59.99]\n",
    "}\n",
    "\n",
    "df = pd.DataFrame(data)\n",
    "\n",
    "# Set hierarchical index with 'course_id' and 'course_name' as levels\n",
    "df.set_index(['course_id', 'course_name'], inplace=True)\n",
    "\n",
    "# Display the DataFrame with hierarchical indexing\n",
    "print(\"DataFrame with Hierarchical Indexing:\")\n",
    "print(df)\n"
   ]
  },
  {
   "cell_type": "code",
   "execution_count": null,
   "id": "4bba62d5",
   "metadata": {},
   "outputs": [],
   "source": []
  }
 ],
 "metadata": {
  "kernelspec": {
   "display_name": "Python 3 (ipykernel)",
   "language": "python",
   "name": "python3"
  },
  "language_info": {
   "codemirror_mode": {
    "name": "ipython",
    "version": 3
   },
   "file_extension": ".py",
   "mimetype": "text/x-python",
   "name": "python",
   "nbconvert_exporter": "python",
   "pygments_lexer": "ipython3",
   "version": "3.11.4"
  }
 },
 "nbformat": 4,
 "nbformat_minor": 5
}
